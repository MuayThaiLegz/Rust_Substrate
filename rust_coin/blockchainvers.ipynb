{
 "cells": [
  {
   "cell_type": "code",
   "execution_count": null,
   "metadata": {},
   "outputs": [],
   "source": [
    "# First iteration"
   ]
  },
  {
   "cell_type": "code",
   "execution_count": null,
   "metadata": {},
   "outputs": [],
   "source": [
    "use super::*;\n",
    "\n",
    "#[derive(Debug)]\n",
    "pub struct Block {\n",
    "    pub timestamp: u64,\n",
    "    pub hash: String,\n",
    "    pub pre_hash : String,\n",
    "    pub transaction: Vec<Transaction>,\n",
    "}\n",
    "\n",
    "impl Block {\n",
    "    pub fn new(pre_hash: String, transaction:Vec<Transaction>) -> Self {\n",
    "        let time = now();\n",
    "        Block {\n",
    "            timestamp: time,\n",
    "            hash:\"\".to_owned(),\n",
    "            pre_hash,\n",
    "            transaction,\n",
    "        }\n",
    "    }    \n",
    "}\n",
    "\n",
    "#[derive(Debug)]\n",
    "pub struct Transaction {\n",
    "    pub sender: String,\n",
    "    pub receiver: String,\n",
    "    pub amount: f32,\n",
    "}\n",
    "\n",
    "impl Transaction {\n",
    "    pub fn bytes(&self) -> Vec<u8> {\n",
    "        let mut bytes = vec![];\n",
    "        bytes.extend(self.sender.as_bytes());\n",
    "        bytes.extend(self.receiver.as_bytes());\n",
    "        bytes.extend(&self.amount.to_bits().to_ne_bytes());\n",
    "        \n",
    "        bytes\n",
    "    }\n",
    "}\n",
    "\n",
    "mod block;\n",
    "pub use block::Block;\n",
    "pub mod transaction;\n",
    "use std::time::{SystemTime, UNIX_EPOCH};\n",
    "pub use transaction::Transaction;\n",
    "\n",
    "pub fn now() -> u64{\n",
    "    let start = SystemTime::now();\n",
    "    let since_the_epoch = start.duration_since(UNIX_EPOCH).expect(\"Time went backwards\");\n",
    "    since_the_epoch.as_secs()\n",
    "}\n",
    "\n",
    "pub fn calculate_hash(pre_hash: &String, transaction: &Vec<Transaction>,timestamp: u64,) -> String {\n",
    "    let mut bytes = vec![];\n",
    "    bytes.extend(&timestamp.to_ne_bytes());\n",
    "    bytes.extend(transactions.iter().flat_map(|transaction| transaction.bytes()).collect::<Vec<u8>>(),\n",
    ");\n",
    "bytes.extend(pre_hash.as_bytes());\n",
    "\n",
    "crypto_hash::hex_digest(crypto_hash::Algorithm::SHA256,&bytes)\n",
    "}"
   ]
  },
  {
   "cell_type": "code",
   "execution_count": null,
   "metadata": {},
   "outputs": [],
   "source": []
  }
 ],
 "metadata": {
  "language_info": {
   "name": "python"
  },
  "orig_nbformat": 4
 },
 "nbformat": 4,
 "nbformat_minor": 2
}
